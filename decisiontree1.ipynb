{
 "cells": [
  {
   "cell_type": "markdown",
   "id": "074f16c5-4e0f-45bb-bf59-3b6085a08809",
   "metadata": {},
   "source": [
    "Q1. Describe the decision tree classifier algorithm and how it works to make predictions."
   ]
  },
  {
   "cell_type": "code",
   "execution_count": null,
   "id": "b946ecd7-9ccd-4959-8fba-2abf86a610d8",
   "metadata": {},
   "outputs": [],
   "source": [
    "Ans:-Decision tree is one of the most popular machine learning algorithm & used in both classification & regression problem.\n",
    "     i.Data preparation\n",
    "      ii.feature selection\n",
    "        iii.tree construction\n",
    "          iv.leaf node\n",
    "            v.prediction"
   ]
  },
  {
   "cell_type": "markdown",
   "id": "0634cef5-7a11-4db4-ba4d-05c7e324d946",
   "metadata": {},
   "source": [
    "Q2. Provide a step-by-step explanation of the mathematical intuition behind decision tree classification."
   ]
  },
  {
   "cell_type": "code",
   "execution_count": null,
   "id": "100a363a-4734-437f-baaf-b1c6a011ae4f",
   "metadata": {},
   "outputs": [],
   "source": [
    "Ans:-\n",
    "     i.Entropy\n",
    "      ii.splitting\n",
    "        iii.leaf node\n",
    "          iv.prediction"
   ]
  },
  {
   "cell_type": "markdown",
   "id": "fa3850b6-b60f-4e75-8ff4-a05731e14135",
   "metadata": {},
   "source": [
    "Q3. Explain how a decision tree classifier can be used to solve a binary classification problem."
   ]
  },
  {
   "cell_type": "code",
   "execution_count": null,
   "id": "dfb4061d-ab6a-497b-b896-8a619ab7db97",
   "metadata": {},
   "outputs": [],
   "source": [
    "Ans:-\n",
    "     i.Data preparation\n",
    "      ii.Tree construction\n",
    "        iii.split nodes\n",
    "          iv.leaf node\n",
    "            v.prediction\n",
    "              vi.evaluation"
   ]
  },
  {
   "cell_type": "code",
   "execution_count": null,
   "id": "3d9c04a6-63a4-438a-b11c-50183a8b7034",
   "metadata": {},
   "outputs": [],
   "source": [
    "Q4. Discuss the geometric intuition behind decision tree classification and how it can be used to make\n",
    "predictions."
   ]
  },
  {
   "cell_type": "markdown",
   "id": "5491d0cf-3699-4647-aceb-7b25ba3a874b",
   "metadata": {},
   "source": [
    "![decession tree classifier.jpg](attachment:903cf734-2ec6-414e-9cea-89e4e821e662.jpg)"
   ]
  },
  {
   "cell_type": "markdown",
   "id": "8c8a1272-1110-4b82-99bf-b85f7a12139d",
   "metadata": {},
   "source": [
    "Q5. Define the confusion matrix and describe how it can be used to evaluate the performance of a\n",
    "classification model."
   ]
  },
  {
   "cell_type": "code",
   "execution_count": null,
   "id": "f963cceb-3517-42a1-aa20-e2330a45fd5b",
   "metadata": {},
   "outputs": [],
   "source": [
    "Ans:-confusion matrix is 2*2 matrix.It is a permorfance matrix to find the prediction of problem.\n",
    "     TP,TN,FP,FN"
   ]
  },
  {
   "cell_type": "markdown",
   "id": "99be71f7-78ff-45f3-8dd1-70a03a47bc7c",
   "metadata": {},
   "source": [
    "![Confusion Matrix in Machine Learning.jpg](attachment:3d9a608a-03cf-400c-b5f0-939633ec893e.jpg)"
   ]
  },
  {
   "cell_type": "markdown",
   "id": "1e32dbae-c2ef-46a8-acd8-10961b09a5cb",
   "metadata": {},
   "source": [
    "Q6. Provide an example of a confusion matrix and explain how precision, recall, and F1 score can be\n",
    "calculated from it."
   ]
  },
  {
   "cell_type": "markdown",
   "id": "9b79bf0d-0bc0-4334-9ee8-ab2ffe84e667",
   "metadata": {},
   "source": [
    "Ans:-TP = 85 ,FP = 10,TP = 85,FN = 15\n",
    "     i.pression--->TP/TP+FP= 85 / (85 + 10) = 0.8947 (or 89.47%)\n",
    "      ii.recall---->TP/TP+FN= 85 / (85 + 15) = 0.85 (or 85%)\n",
    "        iii.F1 score----->2 * (Precision * Recall) / (Precision + Recall)\n",
    "                          =2 * (0.8947 * 0.85) / (0.8947 + 0.85) = 0.8712 (or 87.12%)"
   ]
  },
  {
   "cell_type": "markdown",
   "id": "cfabeefe-bab1-4a02-88d6-5f2a2793d237",
   "metadata": {},
   "source": [
    "Q7. Discuss the importance of choosing an appropriate evaluation metric for a classification problem and\n",
    "explain how this can be done."
   ]
  },
  {
   "cell_type": "code",
   "execution_count": null,
   "id": "d240b34a-76a3-41c4-8157-86b8146377e9",
   "metadata": {},
   "outputs": [],
   "source": [
    "Ans:-Choosing an appropriate evaluation metric for a classification problem  is crucial as  \n",
    "      it determines how the performance of a model is assessed and compared.\n",
    "    \n",
    "    i.nature of the problem \n",
    "     ii.business requirement\n",
    "        iii.Trade off between metrix\n",
    "          iv.cross-validation"
   ]
  },
  {
   "cell_type": "markdown",
   "id": "4d4b9a4c-6a2f-48d9-b64d-cf3009726aab",
   "metadata": {},
   "source": [
    "Q8. Provide an example of a classification problem where precision is the most important metric, and\n",
    "explain why."
   ]
  },
  {
   "cell_type": "code",
   "execution_count": null,
   "id": "ade792c3-7e31-4af6-bae4-f146533070c8",
   "metadata": {},
   "outputs": [],
   "source": [
    "Ans:-The main aim of precision is to reduce False positive value(FP).\n",
    "                                        pression--->TP/TP+FP\n",
    "    ex---->E-mail (spam or not spam )\n",
    "     out of all the actual value how many are correctly predicted ."
   ]
  },
  {
   "cell_type": "markdown",
   "id": "0f6d6e3b-bacf-44e2-b6a3-5e4110065afa",
   "metadata": {},
   "source": [
    "Q9. Provide an example of a classification problem where recall is the most important metric, and explain\n",
    "why."
   ]
  },
  {
   "cell_type": "code",
   "execution_count": null,
   "id": "93598e2d-daca-4829-936f-96bb65b4c166",
   "metadata": {},
   "outputs": [],
   "source": [
    "Ans:-The main aimof recall is to reduce False negative value(FN).\n",
    "     out of all predicted value how many are correctly predicted with actual value"
   ]
  }
 ],
 "metadata": {
  "kernelspec": {
   "display_name": "Python 3 (ipykernel)",
   "language": "python",
   "name": "python3"
  },
  "language_info": {
   "codemirror_mode": {
    "name": "ipython",
    "version": 3
   },
   "file_extension": ".py",
   "mimetype": "text/x-python",
   "name": "python",
   "nbconvert_exporter": "python",
   "pygments_lexer": "ipython3",
   "version": "3.10.8"
  }
 },
 "nbformat": 4,
 "nbformat_minor": 5
}
